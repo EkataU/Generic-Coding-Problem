{
 "cells": [
  {
   "cell_type": "markdown",
   "id": "5b672993-242e-4004-a738-db64f39683a0",
   "metadata": {},
   "source": [
    "#### Given an integer x, return true if x is palindrome integer.\n",
    "\n",
    "An integer is a palindrome when it reads the same backward as forward.\n",
    "\n",
    "For example, 121 is a palindrome while 123 is not.\n",
    "\n",
    "Example 1:\n",
    "Input: x = 121\n",
    "Output: true ---->\n",
    "Explanation: 121 reads as 121 from left to right and from right to left.\n",
    "\n",
    "Example 2:\n",
    "Input: x = -121\n",
    "Output: False ---->\n",
    "Explanation: -121 reads as 121- from left to right and from right to left.\n",
    "\n",
    "Example 3:\n",
    "Input: x = 10\n",
    "Output: false ---->\n",
    "Explanation: Reads 01 from right to left. Therefore it is not a palindrome."
   ]
  },
  {
   "cell_type": "code",
   "execution_count": 40,
   "id": "fac004b8-abc4-48e4-8bb7-d18d246c576d",
   "metadata": {},
   "outputs": [],
   "source": [
    " def Paliandrome(x): \n",
    "    y = str(x)\n",
    "    y = y[::-1]\n",
    "    x = str(x)\n",
    "    if x == y:\n",
    "        return True\n",
    "    else:\n",
    "        return False"
   ]
  },
  {
   "cell_type": "code",
   "execution_count": 42,
   "id": "c599783d-b476-473e-b9d2-9ebcaec1378c",
   "metadata": {},
   "outputs": [
    {
     "data": {
      "text/plain": [
       "True"
      ]
     },
     "execution_count": 42,
     "metadata": {},
     "output_type": "execute_result"
    }
   ],
   "source": [
    "Paliandrome(212)"
   ]
  }
 ],
 "metadata": {
  "kernelspec": {
   "display_name": "Python 3 (ipykernel)",
   "language": "python",
   "name": "python3"
  },
  "language_info": {
   "codemirror_mode": {
    "name": "ipython",
    "version": 3
   },
   "file_extension": ".py",
   "mimetype": "text/x-python",
   "name": "python",
   "nbconvert_exporter": "python",
   "pygments_lexer": "ipython3",
   "version": "3.9.12"
  }
 },
 "nbformat": 4,
 "nbformat_minor": 5
}
