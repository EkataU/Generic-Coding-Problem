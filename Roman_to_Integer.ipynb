{
 "cells": [
  {
   "cell_type": "markdown",
   "id": "3e42c8ac-8260-40ac-bdb6-3b61f9c87ac7",
   "metadata": {},
   "source": [
    "Roman numerals are represented by seven different symbols: I, V, X, L, C, D and M.\n",
    "For example, 2 is written as II in Roman numeral, just two ones added together. \n",
    "12 is written as XII, which is simply X + II. \n",
    "The number 27 is written as XXVII, which is XX + V + II.\n",
    "\n",
    "Roman numerals are usually written largest to smallest from left to right. \n",
    "However, the numeral for four is not IIII. Instead, the number four is written as IV. \n",
    "Because the one is before the five we subtract it making four. \n",
    "The same principle applies to the number nine, which is written as IX. \n",
    "There are six instances where subtraction is used:\n",
    "\n",
    "I can be placed before V (5) and X (10) to make 4 and 9. \n",
    "X can be placed before L (50) and C (100) to make 40 and 90. \n",
    "C can be placed before D (500) and M (1000) to make 400 and 900.\n",
    "Given a roman numeral, convert it to an integer.\n",
    "Example 1:\n",
    "\n",
    "Input: s = \"LVIII\"\n",
    "Output: 58\n",
    "Explanation: L = 50, V= 5, III = 3.\n",
    "Example 2:\n",
    "\n",
    "Input: s = \"MCMXCIV\"\n",
    "Output: 1994\n",
    "Explanation: M = 1000, CM = 900, XC = 90 and IV = 4.\n",
    "\n",
    "Constraints:\n",
    "\n",
    "1 <= s.length <= 15\n",
    "s contains only the characters ('I', 'V', 'X', 'L', 'C', 'D', 'M').\n",
    "It is guaranteed that s is a valid roman numeral in the range [1, 3999]."
   ]
  },
  {
   "cell_type": "code",
   "execution_count": 54,
   "id": "231d5865-85b0-44c2-98fc-18cdfd1958ce",
   "metadata": {},
   "outputs": [
    {
     "name": "stdout",
     "output_type": "stream",
     "text": [
      "<class 'str'>\n",
      "1994\n"
     ]
    }
   ],
   "source": [
    "s= \"MCMXCIV\"\n",
    "print(type(s))\n",
    "dict = {\n",
    "'I' : 1,\n",
    "'V' : 5,\n",
    "'X' : 10,\n",
    "'L' : 50,\n",
    "'C' : 100,\n",
    "'D' : 500,\n",
    "'M' : 1000\n",
    "} \n",
    "# print(type(dict))\n",
    "# print(len(s))\n",
    "i=0\n",
    "temp =0\n",
    "result =0\n",
    "while i <len(s):\n",
    "    temp = dict[s[i]]\n",
    "    # print( temp)\n",
    "    if (i +1) < len(s) and dict[s[i]] < dict[s[i + 1]]:\n",
    "        # print('in the loop')\n",
    "        temp = dict[s[i + 1]] - dict[s[i]]\n",
    "        # print(temp)\n",
    "        i +=1\n",
    "    i +=1\n",
    "    result += temp\n",
    "print(result)"
   ]
  },
  {
   "cell_type": "code",
   "execution_count": null,
   "id": "ac8c4846-6bc8-4e5a-af63-0c1464495f68",
   "metadata": {},
   "outputs": [],
   "source": []
  }
 ],
 "metadata": {
  "kernelspec": {
   "display_name": "Python 3 (ipykernel)",
   "language": "python",
   "name": "python3"
  },
  "language_info": {
   "codemirror_mode": {
    "name": "ipython",
    "version": 3
   },
   "file_extension": ".py",
   "mimetype": "text/x-python",
   "name": "python",
   "nbconvert_exporter": "python",
   "pygments_lexer": "ipython3",
   "version": "3.9.12"
  }
 },
 "nbformat": 4,
 "nbformat_minor": 5
}
