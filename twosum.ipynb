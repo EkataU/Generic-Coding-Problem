{
 "cells": [
  {
   "cell_type": "markdown",
   "id": "124138b1-677c-490f-9bc0-134f060bb927",
   "metadata": {},
   "source": [
    "Given an array of integers nums and an integer target, \n",
    "return indices of the two numbers such that they add up to target.\n",
    "************\n",
    "Exammple 1:\n",
    "Input: nums = [3,2,4], target = 6\n",
    "---->\n",
    "Output: [1,2]\n",
    "\n",
    "Exammple 1:\n",
    "Input: nums = [1,23,2,14], target = 16\n",
    "----->\n",
    "Output: [2,3]\n"
   ]
  },
  {
   "cell_type": "code",
   "execution_count": 40,
   "id": "8ff6ee4f-42c2-4d66-b882-9eb2b0373f81",
   "metadata": {},
   "outputs": [],
   "source": [
    "\n",
    "# Input arrays\n",
    "nums = [2,5,7,11,15]\n",
    "target = 9"
   ]
  },
  {
   "cell_type": "code",
   "execution_count": 43,
   "id": "a2395b62-e8f0-4383-9302-104274d4e666",
   "metadata": {},
   "outputs": [],
   "source": [
    "def twoSum(nums, target):\n",
    "    for i in range(len(nums)):\n",
    "        tar = target - nums[i]\n",
    "        print(tar)\n",
    "        if tar in nums and nums.index(tar) != i:\n",
    "            return [i, nums.index(tar)]"
   ]
  },
  {
   "cell_type": "code",
   "execution_count": 44,
   "id": "5a9cf2b7-dcbd-4aeb-95b4-732294244608",
   "metadata": {},
   "outputs": [
    {
     "name": "stdout",
     "output_type": "stream",
     "text": [
      "7\n"
     ]
    },
    {
     "data": {
      "text/plain": [
       "[0, 2]"
      ]
     },
     "execution_count": 44,
     "metadata": {},
     "output_type": "execute_result"
    }
   ],
   "source": [
    "twoSum(nums ,target)"
   ]
  }
 ],
 "metadata": {
  "kernelspec": {
   "display_name": "Python 3 (ipykernel)",
   "language": "python",
   "name": "python3"
  },
  "language_info": {
   "codemirror_mode": {
    "name": "ipython",
    "version": 3
   },
   "file_extension": ".py",
   "mimetype": "text/x-python",
   "name": "python",
   "nbconvert_exporter": "python",
   "pygments_lexer": "ipython3",
   "version": "3.9.12"
  }
 },
 "nbformat": 4,
 "nbformat_minor": 5
}
