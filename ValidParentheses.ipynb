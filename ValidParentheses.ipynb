{
 "cells": [
  {
   "cell_type": "markdown",
   "id": "fb880c16-dbbb-4767-9995-d622e9e54bed",
   "metadata": {},
   "source": [
    "#### Find the Parentheses"
   ]
  },
  {
   "cell_type": "code",
   "execution_count": 66,
   "id": "189d3ccc-8659-4e16-98b9-f905db3014d7",
   "metadata": {},
   "outputs": [],
   "source": [
    "def isValid( s):\n",
    "    for x in range(len(s)//2):\n",
    "        s = s.replace('()', '').replace('{}', '').replace('[]', '')\n",
    "    return len(s) == 0\n",
    "    "
   ]
  },
  {
   "cell_type": "code",
   "execution_count": 67,
   "id": "24488018-ebb4-4837-a0b3-2533aa780374",
   "metadata": {},
   "outputs": [
    {
     "data": {
      "text/plain": [
       "True"
      ]
     },
     "execution_count": 67,
     "metadata": {},
     "output_type": "execute_result"
    }
   ],
   "source": [
    "s = \"[[]]\"\n",
    "# s = \"(][\"\n",
    "# s = \")(][\"\n",
    "# s = \"()[]\"\n",
    "isValid(s)"
   ]
  },
  {
   "cell_type": "code",
   "execution_count": 54,
   "id": "34f17007-a36b-4dba-897e-8c2614b5a245",
   "metadata": {},
   "outputs": [
    {
     "name": "stdout",
     "output_type": "stream",
     "text": [
      "2\n",
      "0\n"
     ]
    }
   ],
   "source": [
    "for x in range(len(s)//2):\n",
    "    s = s.replace('()', '').replace('{}', '').replace('[]', '')\n",
    "    print( len(s) )"
   ]
  },
  {
   "cell_type": "code",
   "execution_count": null,
   "id": "bf85f2b6-1468-4032-94bd-cfa899204abb",
   "metadata": {},
   "outputs": [],
   "source": []
  }
 ],
 "metadata": {
  "kernelspec": {
   "display_name": "Python 3 (ipykernel)",
   "language": "python",
   "name": "python3"
  },
  "language_info": {
   "codemirror_mode": {
    "name": "ipython",
    "version": 3
   },
   "file_extension": ".py",
   "mimetype": "text/x-python",
   "name": "python",
   "nbconvert_exporter": "python",
   "pygments_lexer": "ipython3",
   "version": "3.9.12"
  }
 },
 "nbformat": 4,
 "nbformat_minor": 5
}
