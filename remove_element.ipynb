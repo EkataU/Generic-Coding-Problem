{
 "cells": [
  {
   "cell_type": "code",
   "execution_count": null,
   "id": "849abc58-3373-4064-bee7-73046a9f86b6",
   "metadata": {},
   "outputs": [],
   "source": []
  },
  {
   "cell_type": "markdown",
   "id": "9cf3a217-6354-40a6-a810-cf788055e207",
   "metadata": {},
   "source": [
    "Given an integer array nums and an integer val, remove all occurrences of val in nums in-place. The relative order of the elements may be changed.\n",
    "\n",
    "Since it is impossible to change the length of the array in some languages, you must instead have the result be placed in the first part of the array nums. More formally, if there are k elements after removing the duplicates, then the first k elements of nums should hold the final result. It does not matter what you leave beyond the first k elements.\n",
    "\n",
    "Return k after placing the final result in the first k slots of nums.\n",
    "\n",
    "Do not allocate extra space for another array. You must do this by modifying the input array in-place with O(1) extra memory."
   ]
  },
  {
   "cell_type": "markdown",
   "id": "bab89a27-401f-4836-b639-36005525e673",
   "metadata": {},
   "source": [
    "Input: nums = [0,1,2,2,3,0,4,2], val = 2 ------>\n",
    "Output: 5, nums = [0,1,4,0,3,_,_,_]"
   ]
  },
  {
   "cell_type": "code",
   "execution_count": 5,
   "id": "daf02149-894e-4406-b1b1-4cbc2e54bea3",
   "metadata": {},
   "outputs": [
    {
     "name": "stdout",
     "output_type": "stream",
     "text": [
      "5\n",
      "[0, 1, 3, 0, 4]\n"
     ]
    }
   ],
   "source": [
    "\n",
    "def removeElement( nums, val) -> int:\n",
    "    l = 0\n",
    "\n",
    "    for r in nums:\n",
    "        if r != val:\n",
    "            nums[l] = r\n",
    "            l += 1\n",
    "    print(l)\n",
    "    print(nums[: l])\n",
    "nums = [0,1,2,2,3,0,4,2]\n",
    "val = 2    \n",
    "removeElement(nums,val)"
   ]
  }
 ],
 "metadata": {
  "kernelspec": {
   "display_name": "Python 3 (ipykernel)",
   "language": "python",
   "name": "python3"
  },
  "language_info": {
   "codemirror_mode": {
    "name": "ipython",
    "version": 3
   },
   "file_extension": ".py",
   "mimetype": "text/x-python",
   "name": "python",
   "nbconvert_exporter": "python",
   "pygments_lexer": "ipython3",
   "version": "3.9.12"
  }
 },
 "nbformat": 4,
 "nbformat_minor": 5
}
