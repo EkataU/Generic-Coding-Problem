{
 "cells": [
  {
   "cell_type": "code",
   "execution_count": 13,
   "id": "4601459e-32d2-4c79-a2df-44a3a4a102d3",
   "metadata": {},
   "outputs": [
    {
     "name": "stdout",
     "output_type": "stream",
     "text": [
      "[1, 2]\n"
     ]
    }
   ],
   "source": [
    "nums =[1, 1 , 2 ]\n",
    "\n",
    "L = 1\n",
    "for r in range(1,len(nums)):\n",
    "    if nums[r] != nums[r-1]:\n",
    "        nums[L] = nums[r]\n",
    "        L +=1\n",
    "print (nums[:L])"
   ]
  },
  {
   "cell_type": "code",
   "execution_count": null,
   "id": "b577300f-fb2d-4395-b75c-710539ab991e",
   "metadata": {},
   "outputs": [],
   "source": []
  }
 ],
 "metadata": {
  "kernelspec": {
   "display_name": "Python 3 (ipykernel)",
   "language": "python",
   "name": "python3"
  },
  "language_info": {
   "codemirror_mode": {
    "name": "ipython",
    "version": 3
   },
   "file_extension": ".py",
   "mimetype": "text/x-python",
   "name": "python",
   "nbconvert_exporter": "python",
   "pygments_lexer": "ipython3",
   "version": "3.9.12"
  }
 },
 "nbformat": 4,
 "nbformat_minor": 5
}
